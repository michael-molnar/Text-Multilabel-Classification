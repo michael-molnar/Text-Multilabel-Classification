{
 "cells": [
  {
   "cell_type": "markdown",
   "metadata": {},
   "source": [
    "### NLP - Notebook 5\n",
    "### Deep Learning Models"
   ]
  },
  {
   "cell_type": "code",
   "execution_count": 1,
   "metadata": {},
   "outputs": [],
   "source": [
    "from numpy import array\n",
    "from numpy import asarray\n",
    "from keras.preprocessing.text import one_hot\n",
    "from keras.preprocessing.sequence import pad_sequences\n",
    "from keras.models import Sequential\n",
    "from keras.layers.core import Activation, Dropout, Dense\n",
    "from keras.layers import Flatten, LSTM\n",
    "from keras.layers import GlobalMaxPooling1D\n",
    "from keras.models import Model\n",
    "from keras.layers.embeddings import Embedding\n",
    "from sklearn.model_selection import train_test_split\n",
    "from keras.preprocessing.text import Tokenizer\n",
    "from keras.layers import Input\n",
    "from keras.layers.merge import Concatenate\n",
    "\n",
    "import pandas as pd\n",
    "import numpy as np\n",
    "import re\n",
    "\n",
    "import matplotlib.pyplot as plt"
   ]
  },
  {
   "cell_type": "code",
   "execution_count": 2,
   "metadata": {},
   "outputs": [
    {
     "data": {
      "text/html": [
       "<div>\n",
       "<style scoped>\n",
       "    .dataframe tbody tr th:only-of-type {\n",
       "        vertical-align: middle;\n",
       "    }\n",
       "\n",
       "    .dataframe tbody tr th {\n",
       "        vertical-align: top;\n",
       "    }\n",
       "\n",
       "    .dataframe thead th {\n",
       "        text-align: right;\n",
       "    }\n",
       "</style>\n",
       "<table border=\"1\" class=\"dataframe\">\n",
       "  <thead>\n",
       "    <tr style=\"text-align: right;\">\n",
       "      <th></th>\n",
       "      <th>no_stop_words</th>\n",
       "    </tr>\n",
       "  </thead>\n",
       "  <tbody>\n",
       "    <tr>\n",
       "      <th>0</th>\n",
       "      <td>w7718 w173355 w138132 w232277 w314686 w292000 ...</td>\n",
       "    </tr>\n",
       "    <tr>\n",
       "      <th>1</th>\n",
       "      <td>w195317 w127737 w171593 w22890 w342007 w289824...</td>\n",
       "    </tr>\n",
       "    <tr>\n",
       "      <th>2</th>\n",
       "      <td>w261113 w366000 w378735 w500012 w306830 w20025...</td>\n",
       "    </tr>\n",
       "    <tr>\n",
       "      <th>3</th>\n",
       "      <td>w286461 w308610 w27013 w272605 w287214 w15393 ...</td>\n",
       "    </tr>\n",
       "    <tr>\n",
       "      <th>4</th>\n",
       "      <td>w135431 w115724 w331534 w256214 w71240 w326106...</td>\n",
       "    </tr>\n",
       "  </tbody>\n",
       "</table>\n",
       "</div>"
      ],
      "text/plain": [
       "                                       no_stop_words\n",
       "0  w7718 w173355 w138132 w232277 w314686 w292000 ...\n",
       "1  w195317 w127737 w171593 w22890 w342007 w289824...\n",
       "2  w261113 w366000 w378735 w500012 w306830 w20025...\n",
       "3  w286461 w308610 w27013 w272605 w287214 w15393 ...\n",
       "4  w135431 w115724 w331534 w256214 w71240 w326106..."
      ]
     },
     "execution_count": 2,
     "metadata": {},
     "output_type": "execute_result"
    }
   ],
   "source": [
    "# Import our cleaned dataset\n",
    "nlpdata = pd.read_csv('Data\\X_no_stop_words.csv')\n",
    "nlpdata.head()"
   ]
  },
  {
   "cell_type": "code",
   "execution_count": 3,
   "metadata": {},
   "outputs": [
    {
     "data": {
      "text/plain": [
       "'w7718 w173355 w138132 w232277 w314686 w292000 w148650 w220790 w20894 w500010 w136109 w172358 w66535 w80220 w255783 w15393 '"
      ]
     },
     "execution_count": 3,
     "metadata": {},
     "output_type": "execute_result"
    }
   ],
   "source": [
    "nlpdata['no_stop_words'][0]"
   ]
  },
  {
   "cell_type": "code",
   "execution_count": 4,
   "metadata": {},
   "outputs": [],
   "source": [
    "# Retrieve the labels \n",
    "train_data = pd.read_csv ('Data\\TIL_NLP_train_dataset.csv')"
   ]
  },
  {
   "cell_type": "code",
   "execution_count": 5,
   "metadata": {},
   "outputs": [],
   "source": [
    "y = train_data.drop(columns=['id', 'word_representation'])"
   ]
  },
  {
   "cell_type": "code",
   "execution_count": 6,
   "metadata": {},
   "outputs": [],
   "source": [
    "y = y.values"
   ]
  },
  {
   "cell_type": "code",
   "execution_count": 7,
   "metadata": {},
   "outputs": [
    {
     "data": {
      "text/plain": [
       "array([[1, 0, 1, 0, 0],\n",
       "       [1, 0, 1, 0, 0],\n",
       "       [0, 1, 1, 0, 0],\n",
       "       ...,\n",
       "       [1, 0, 1, 0, 0],\n",
       "       [1, 1, 0, 0, 0],\n",
       "       [1, 0, 1, 0, 0]], dtype=int64)"
      ]
     },
     "execution_count": 7,
     "metadata": {},
     "output_type": "execute_result"
    }
   ],
   "source": [
    "y"
   ]
  },
  {
   "cell_type": "markdown",
   "metadata": {},
   "source": [
    "### Multi-lable Text Classification Model with Single Output Layer"
   ]
  },
  {
   "cell_type": "code",
   "execution_count": 8,
   "metadata": {},
   "outputs": [],
   "source": [
    "X = []\n",
    "sentences = list(nlpdata['no_stop_words'])\n",
    "for sen in sentences:\n",
    "    X.append(sen)"
   ]
  },
  {
   "cell_type": "code",
   "execution_count": 11,
   "metadata": {},
   "outputs": [],
   "source": [
    "# Tokenize the data into individual words \n",
    "from nltk.tokenize import word_tokenize\n",
    "all_words = []\n",
    "for sent in X:\n",
    "    tokenize_word = word_tokenize(sent)\n",
    "    for word in tokenize_word:\n",
    "        all_words.append(word)"
   ]
  },
  {
   "cell_type": "code",
   "execution_count": 12,
   "metadata": {},
   "outputs": [
    {
     "name": "stdout",
     "output_type": "stream",
     "text": [
      "4160\n"
     ]
    }
   ],
   "source": [
    "# Get the number of unique words \n",
    "unique_words = set(all_words)\n",
    "print(len(unique_words))"
   ]
  },
  {
   "cell_type": "code",
   "execution_count": 13,
   "metadata": {},
   "outputs": [],
   "source": [
    "# We want to count the number of words in each row and find the longest case\n",
    "word_count = lambda sentence: len(word_tokenize(sentence))\n",
    "longest_sentence = max(sentences, key=word_count)\n",
    "length_long_sentence = len(word_tokenize(longest_sentence))"
   ]
  },
  {
   "cell_type": "code",
   "execution_count": 14,
   "metadata": {},
   "outputs": [
    {
     "data": {
      "text/plain": [
       "36"
      ]
     },
     "execution_count": 14,
     "metadata": {},
     "output_type": "execute_result"
    }
   ],
   "source": [
    "length_long_sentence"
   ]
  },
  {
   "cell_type": "markdown",
   "metadata": {},
   "source": [
    "The longest row as 36 words.  We will pad rows to match this length for uniformity."
   ]
  },
  {
   "cell_type": "code",
   "execution_count": 16,
   "metadata": {},
   "outputs": [],
   "source": [
    "# Split into training and testing\n",
    "X_train, X_test, y_train, y_test = train_test_split(X, y, test_size=0.20, random_state=42)"
   ]
  },
  {
   "cell_type": "code",
   "execution_count": 17,
   "metadata": {},
   "outputs": [],
   "source": [
    "# We tokenize the data and pad each sequence to match the longest lenght we found - 36 tokens.\n",
    "tokenizer = Tokenizer(num_words=5000)\n",
    "tokenizer.fit_on_texts(X_train)\n",
    "\n",
    "X_train = tokenizer.texts_to_sequences(X_train)\n",
    "X_test = tokenizer.texts_to_sequences(X_test)\n",
    "\n",
    "vocab_size = len(tokenizer.word_index) + 1\n",
    "\n",
    "maxlen = 36\n",
    "\n",
    "X_train = pad_sequences(X_train, padding='post', maxlen=maxlen)\n",
    "X_test = pad_sequences(X_test, padding='post', maxlen=maxlen)"
   ]
  },
  {
   "cell_type": "code",
   "execution_count": 19,
   "metadata": {},
   "outputs": [
    {
     "data": {
      "text/plain": [
       "array([[ 775,   97,  200, ...,    0,    0,    0],\n",
       "       [ 310,  403,  108, ...,    0,    0,    0],\n",
       "       [   7,  211,    4, ...,    0,    0,    0],\n",
       "       ...,\n",
       "       [  88,  364,  482, ...,    0,    0,    0],\n",
       "       [ 297,  152,  164, ...,    0,    0,    0],\n",
       "       [ 511, 2230,  192, ...,    0,    0,    0]])"
      ]
     },
     "execution_count": 19,
     "metadata": {},
     "output_type": "execute_result"
    }
   ],
   "source": [
    "X_train"
   ]
  },
  {
   "cell_type": "code",
   "execution_count": 20,
   "metadata": {},
   "outputs": [
    {
     "data": {
      "text/plain": [
       "(5904, 36)"
      ]
     },
     "execution_count": 20,
     "metadata": {},
     "output_type": "execute_result"
    }
   ],
   "source": [
    "X_train.shape"
   ]
  },
  {
   "cell_type": "markdown",
   "metadata": {},
   "source": [
    "So we have 5,904 rows of training data and row matches the length of the longest row - 36 entries."
   ]
  },
  {
   "cell_type": "code",
   "execution_count": 21,
   "metadata": {},
   "outputs": [
    {
     "data": {
      "text/plain": [
       "array([[0, 1, 1, 0, 0],\n",
       "       [0, 1, 0, 1, 0],\n",
       "       [0, 1, 1, 0, 0],\n",
       "       ...,\n",
       "       [0, 0, 0, 0, 1],\n",
       "       [0, 0, 0, 1, 1],\n",
       "       [1, 0, 1, 0, 0]], dtype=int64)"
      ]
     },
     "execution_count": 21,
     "metadata": {},
     "output_type": "execute_result"
    }
   ],
   "source": [
    "y_train"
   ]
  },
  {
   "cell_type": "code",
   "execution_count": 22,
   "metadata": {},
   "outputs": [
    {
     "data": {
      "text/plain": [
       "(5904, 5)"
      ]
     },
     "execution_count": 22,
     "metadata": {},
     "output_type": "execute_result"
    }
   ],
   "source": [
    "y_train.shape"
   ]
  },
  {
   "cell_type": "markdown",
   "metadata": {},
   "source": [
    "We will now create an embedding layer using our word embeddings file.  This will be used in the deep learning models as an embedding layer."
   ]
  },
  {
   "cell_type": "code",
   "execution_count": 23,
   "metadata": {},
   "outputs": [],
   "source": [
    "import pickle\n",
    "with open ('Data\\word_embeddings.pkl', 'rb') as file:\n",
    "    embeddings = pickle.load(file)"
   ]
  },
  {
   "cell_type": "code",
   "execution_count": 24,
   "metadata": {},
   "outputs": [],
   "source": [
    "embeddings_dictionary = dict()\n",
    "\n",
    "for line in embeddings.keys():\n",
    "    records = embeddings[line]\n",
    "    word = line\n",
    "    vector_dimensions = asarray(records[:], dtype='float32')\n",
    "    embeddings_dictionary[word] = vector_dimensions"
   ]
  },
  {
   "cell_type": "code",
   "execution_count": 25,
   "metadata": {},
   "outputs": [],
   "source": [
    "# Here we create the embedding matrix\n",
    "embedding_matrix = np.zeros((vocab_size, 100))\n",
    "for word, index in tokenizer.word_index.items():\n",
    "    embedding_vector = embeddings_dictionary.get(word)\n",
    "    if embedding_vector is not None:\n",
    "        embedding_matrix[index] = embedding_vector"
   ]
  },
  {
   "cell_type": "code",
   "execution_count": 26,
   "metadata": {},
   "outputs": [
    {
     "data": {
      "text/plain": [
       "array([[ 0.        ,  0.        ,  0.        , ...,  0.        ,\n",
       "         0.        ,  0.        ],\n",
       "       [ 0.34904999, -0.018456  , -0.32291999, ..., -0.044779  ,\n",
       "         0.12902001, -0.23039   ],\n",
       "       [ 0.11302   ,  0.51802999, -0.61565   , ...,  0.34717   ,\n",
       "        -0.21518999, -0.13248999],\n",
       "       ...,\n",
       "       [ 0.080462  , -0.23085999,  0.040204  , ...,  0.32157999,\n",
       "         0.77864999,  0.072076  ],\n",
       "       [-0.80576998, -0.42262   , -0.0061334 , ..., -1.03289998,\n",
       "        -0.36798999, -0.14947   ],\n",
       "       [ 0.67958999, -0.12808   ,  0.023239  , ..., -0.11294   ,\n",
       "        -0.29925001,  0.38870999]])"
      ]
     },
     "execution_count": 26,
     "metadata": {},
     "output_type": "execute_result"
    }
   ],
   "source": [
    "embedding_matrix"
   ]
  },
  {
   "cell_type": "code",
   "execution_count": 27,
   "metadata": {},
   "outputs": [
    {
     "data": {
      "text/plain": [
       "(3881, 100)"
      ]
     },
     "execution_count": 27,
     "metadata": {},
     "output_type": "execute_result"
    }
   ],
   "source": [
    "embedding_matrix.shape"
   ]
  },
  {
   "cell_type": "markdown",
   "metadata": {},
   "source": [
    "The matrix creates a 100-dimensional vector for each of the unique words in our training dataset.  "
   ]
  },
  {
   "cell_type": "code",
   "execution_count": 28,
   "metadata": {},
   "outputs": [],
   "source": [
    "# Create the deep learning model with one output layer \n",
    "deep_inputs = Input(shape=(maxlen,))\n",
    "embedding_layer = Embedding(vocab_size, 100, weights=[embedding_matrix], trainable=False)(deep_inputs)\n",
    "LSTM_Layer_1 = LSTM(128)(embedding_layer)\n",
    "dense_layer_1 = Dense(5, activation='sigmoid')(LSTM_Layer_1)\n",
    "model = Model(inputs=deep_inputs, outputs=dense_layer_1)\n",
    "\n",
    "model.compile(loss='binary_crossentropy', optimizer='adam', metrics=['acc'])"
   ]
  },
  {
   "cell_type": "code",
   "execution_count": 29,
   "metadata": {},
   "outputs": [
    {
     "name": "stdout",
     "output_type": "stream",
     "text": [
      "Model: \"functional_1\"\n",
      "_________________________________________________________________\n",
      "Layer (type)                 Output Shape              Param #   \n",
      "=================================================================\n",
      "input_1 (InputLayer)         [(None, 36)]              0         \n",
      "_________________________________________________________________\n",
      "embedding (Embedding)        (None, 36, 100)           388100    \n",
      "_________________________________________________________________\n",
      "lstm (LSTM)                  (None, 128)               117248    \n",
      "_________________________________________________________________\n",
      "dense (Dense)                (None, 5)                 645       \n",
      "=================================================================\n",
      "Total params: 505,993\n",
      "Trainable params: 117,893\n",
      "Non-trainable params: 388,100\n",
      "_________________________________________________________________\n",
      "None\n"
     ]
    }
   ],
   "source": [
    "print(model.summary())"
   ]
  },
  {
   "cell_type": "markdown",
   "metadata": {},
   "source": [
    "# Test the model for 20 epochs"
   ]
  },
  {
   "cell_type": "code",
   "execution_count": 30,
   "metadata": {},
   "outputs": [
    {
     "name": "stdout",
     "output_type": "stream",
     "text": [
      "Epoch 1/20\n",
      "37/37 [==============================] - 2s 54ms/step - loss: 0.6007 - acc: 0.1925 - val_loss: 0.5501 - val_acc: 0.2557\n",
      "Epoch 2/20\n",
      "37/37 [==============================] - 2s 42ms/step - loss: 0.5205 - acc: 0.2331 - val_loss: 0.4937 - val_acc: 0.3243\n",
      "Epoch 3/20\n",
      "37/37 [==============================] - 1s 38ms/step - loss: 0.4621 - acc: 0.2920 - val_loss: 0.4425 - val_acc: 0.3387\n",
      "Epoch 4/20\n",
      "37/37 [==============================] - 1s 37ms/step - loss: 0.4030 - acc: 0.3303 - val_loss: 0.3663 - val_acc: 0.4412\n",
      "Epoch 5/20\n",
      "37/37 [==============================] - 1s 37ms/step - loss: 0.3177 - acc: 0.4921 - val_loss: 0.2908 - val_acc: 0.5978\n",
      "Epoch 6/20\n",
      "37/37 [==============================] - 1s 38ms/step - loss: 0.2660 - acc: 0.5640 - val_loss: 0.2596 - val_acc: 0.5555\n",
      "Epoch 7/20\n",
      "37/37 [==============================] - 1s 38ms/step - loss: 0.2229 - acc: 0.5723 - val_loss: 0.2277 - val_acc: 0.5927\n",
      "Epoch 8/20\n",
      "37/37 [==============================] - 1s 38ms/step - loss: 0.1789 - acc: 0.5225 - val_loss: 0.1811 - val_acc: 0.6088\n",
      "Epoch 9/20\n",
      "37/37 [==============================] - 1s 38ms/step - loss: 0.1503 - acc: 0.5774 - val_loss: 0.1657 - val_acc: 0.6266\n",
      "Epoch 10/20\n",
      "37/37 [==============================] - 1s 38ms/step - loss: 0.1382 - acc: 0.5700 - val_loss: 0.1633 - val_acc: 0.5064\n",
      "Epoch 11/20\n",
      "37/37 [==============================] - 1s 38ms/step - loss: 0.1155 - acc: 0.5748 - val_loss: 0.1462 - val_acc: 0.6537\n",
      "Epoch 12/20\n",
      "37/37 [==============================] - 1s 38ms/step - loss: 0.1013 - acc: 0.5499 - val_loss: 0.1483 - val_acc: 0.6410\n",
      "Epoch 13/20\n",
      "37/37 [==============================] - 1s 38ms/step - loss: 0.0906 - acc: 0.5530 - val_loss: 0.1572 - val_acc: 0.5445\n",
      "Epoch 14/20\n",
      "37/37 [==============================] - 1s 38ms/step - loss: 0.0909 - acc: 0.5494 - val_loss: 0.1355 - val_acc: 0.5707\n",
      "Epoch 15/20\n",
      "37/37 [==============================] - 1s 39ms/step - loss: 0.0773 - acc: 0.5331 - val_loss: 0.1490 - val_acc: 0.5174\n",
      "Epoch 16/20\n",
      "37/37 [==============================] - 1s 39ms/step - loss: 0.0828 - acc: 0.5213 - val_loss: 0.1350 - val_acc: 0.5072\n",
      "Epoch 17/20\n",
      "37/37 [==============================] - 1s 39ms/step - loss: 0.0708 - acc: 0.5160 - val_loss: 0.1290 - val_acc: 0.5715\n",
      "Epoch 18/20\n",
      "37/37 [==============================] - 1s 39ms/step - loss: 0.0677 - acc: 0.5092 - val_loss: 0.1447 - val_acc: 0.4962\n",
      "Epoch 19/20\n",
      "37/37 [==============================] - 1s 39ms/step - loss: 0.0646 - acc: 0.4982 - val_loss: 0.1433 - val_acc: 0.5064\n",
      "Epoch 20/20\n",
      "37/37 [==============================] - 1s 39ms/step - loss: 0.0642 - acc: 0.5215 - val_loss: 0.1424 - val_acc: 0.5377\n"
     ]
    }
   ],
   "source": [
    "history = model.fit(X_train, y_train, batch_size=128, epochs=20, verbose=1, validation_split=0.2)"
   ]
  },
  {
   "cell_type": "code",
   "execution_count": 31,
   "metadata": {},
   "outputs": [
    {
     "name": "stdout",
     "output_type": "stream",
     "text": [
      "47/47 [==============================] - 0s 6ms/step - loss: 0.1199 - acc: 0.5000\n",
      "Test Score: 0.11986026912927628\n",
      "Test Accuracy: 0.5\n"
     ]
    }
   ],
   "source": [
    "# Evaluate the model on the test dataset\n",
    "score = model.evaluate(X_test, y_test, verbose=1)\n",
    "\n",
    "print(\"Test Score:\", score[0])\n",
    "print(\"Test Accuracy:\", score[1])"
   ]
  },
  {
   "cell_type": "markdown",
   "metadata": {},
   "source": [
    "We achieve an accuracy of only 50% using this model."
   ]
  },
  {
   "cell_type": "code",
   "execution_count": 32,
   "metadata": {},
   "outputs": [
    {
     "data": {
      "image/png": "[encoded data removed]",
      "text/plain": [
       "<Figure size 432x288 with 1 Axes>"
      ]
     },
     "metadata": {
      "needs_background": "light"
     },
     "output_type": "display_data"
    },
    {
     "data": {
      "image/png": "[encoded data removed]",
      "text/plain": [
       "<Figure size 432x288 with 1 Axes>"
      ]
     },
     "metadata": {
      "needs_background": "light"
     },
     "output_type": "display_data"
    }
   ],
   "source": [
    "# Plotting the accuracies and lost over the epochs\n",
    "import matplotlib.pyplot as plt\n",
    "\n",
    "plt.plot(history.history['acc'])\n",
    "plt.plot(history.history['val_acc'])\n",
    "\n",
    "plt.title('model accuracy')\n",
    "plt.ylabel('accuracy')\n",
    "plt.xlabel('epoch')\n",
    "plt.legend(['train','test'], loc='upper left')\n",
    "plt.show()\n",
    "\n",
    "plt.plot(history.history['loss'])\n",
    "plt.plot(history.history['val_loss'])\n",
    "\n",
    "plt.title('model loss')\n",
    "plt.ylabel('loss')\n",
    "plt.xlabel('epoch')\n",
    "plt.legend(['train','test'], loc='upper left')\n",
    "plt.show()"
   ]
  },
  {
   "cell_type": "markdown",
   "metadata": {},
   "source": [
    "### Multi-lable Text Classification Model with Multiple Output Layers"
   ]
  },
  {
   "cell_type": "code",
   "execution_count": 33,
   "metadata": {},
   "outputs": [],
   "source": [
    "X = []\n",
    "sentences = list(nlpdata['no_stop_words'])\n",
    "for sen in sentences:\n",
    "    X.append(sen)"
   ]
  },
  {
   "cell_type": "code",
   "execution_count": 34,
   "metadata": {},
   "outputs": [],
   "source": [
    "y = train_data.drop(columns=['id', 'word_representation'])"
   ]
  },
  {
   "cell_type": "code",
   "execution_count": 35,
   "metadata": {},
   "outputs": [
    {
     "data": {
      "text/html": [
       "<div>\n",
       "<style scoped>\n",
       "    .dataframe tbody tr th:only-of-type {\n",
       "        vertical-align: middle;\n",
       "    }\n",
       "\n",
       "    .dataframe tbody tr th {\n",
       "        vertical-align: top;\n",
       "    }\n",
       "\n",
       "    .dataframe thead th {\n",
       "        text-align: right;\n",
       "    }\n",
       "</style>\n",
       "<table border=\"1\" class=\"dataframe\">\n",
       "  <thead>\n",
       "    <tr style=\"text-align: right;\">\n",
       "      <th></th>\n",
       "      <th>outwear</th>\n",
       "      <th>top</th>\n",
       "      <th>trousers</th>\n",
       "      <th>women dresses</th>\n",
       "      <th>women skirts</th>\n",
       "    </tr>\n",
       "  </thead>\n",
       "  <tbody>\n",
       "    <tr>\n",
       "      <th>0</th>\n",
       "      <td>1</td>\n",
       "      <td>0</td>\n",
       "      <td>1</td>\n",
       "      <td>0</td>\n",
       "      <td>0</td>\n",
       "    </tr>\n",
       "    <tr>\n",
       "      <th>1</th>\n",
       "      <td>1</td>\n",
       "      <td>0</td>\n",
       "      <td>1</td>\n",
       "      <td>0</td>\n",
       "      <td>0</td>\n",
       "    </tr>\n",
       "    <tr>\n",
       "      <th>2</th>\n",
       "      <td>0</td>\n",
       "      <td>1</td>\n",
       "      <td>1</td>\n",
       "      <td>0</td>\n",
       "      <td>0</td>\n",
       "    </tr>\n",
       "    <tr>\n",
       "      <th>3</th>\n",
       "      <td>1</td>\n",
       "      <td>0</td>\n",
       "      <td>1</td>\n",
       "      <td>0</td>\n",
       "      <td>0</td>\n",
       "    </tr>\n",
       "    <tr>\n",
       "      <th>4</th>\n",
       "      <td>1</td>\n",
       "      <td>0</td>\n",
       "      <td>1</td>\n",
       "      <td>0</td>\n",
       "      <td>0</td>\n",
       "    </tr>\n",
       "    <tr>\n",
       "      <th>...</th>\n",
       "      <td>...</td>\n",
       "      <td>...</td>\n",
       "      <td>...</td>\n",
       "      <td>...</td>\n",
       "      <td>...</td>\n",
       "    </tr>\n",
       "    <tr>\n",
       "      <th>7375</th>\n",
       "      <td>0</td>\n",
       "      <td>1</td>\n",
       "      <td>1</td>\n",
       "      <td>0</td>\n",
       "      <td>0</td>\n",
       "    </tr>\n",
       "    <tr>\n",
       "      <th>7376</th>\n",
       "      <td>1</td>\n",
       "      <td>1</td>\n",
       "      <td>0</td>\n",
       "      <td>0</td>\n",
       "      <td>0</td>\n",
       "    </tr>\n",
       "    <tr>\n",
       "      <th>7377</th>\n",
       "      <td>1</td>\n",
       "      <td>0</td>\n",
       "      <td>1</td>\n",
       "      <td>0</td>\n",
       "      <td>0</td>\n",
       "    </tr>\n",
       "    <tr>\n",
       "      <th>7378</th>\n",
       "      <td>1</td>\n",
       "      <td>1</td>\n",
       "      <td>0</td>\n",
       "      <td>0</td>\n",
       "      <td>0</td>\n",
       "    </tr>\n",
       "    <tr>\n",
       "      <th>7379</th>\n",
       "      <td>1</td>\n",
       "      <td>0</td>\n",
       "      <td>1</td>\n",
       "      <td>0</td>\n",
       "      <td>0</td>\n",
       "    </tr>\n",
       "  </tbody>\n",
       "</table>\n",
       "<p>7380 rows × 5 columns</p>\n",
       "</div>"
      ],
      "text/plain": [
       "      outwear  top  trousers  women dresses  women skirts\n",
       "0           1    0         1              0             0\n",
       "1           1    0         1              0             0\n",
       "2           0    1         1              0             0\n",
       "3           1    0         1              0             0\n",
       "4           1    0         1              0             0\n",
       "...       ...  ...       ...            ...           ...\n",
       "7375        0    1         1              0             0\n",
       "7376        1    1         0              0             0\n",
       "7377        1    0         1              0             0\n",
       "7378        1    1         0              0             0\n",
       "7379        1    0         1              0             0\n",
       "\n",
       "[7380 rows x 5 columns]"
      ]
     },
     "execution_count": 35,
     "metadata": {},
     "output_type": "execute_result"
    }
   ],
   "source": [
    "y"
   ]
  },
  {
   "cell_type": "code",
   "execution_count": 36,
   "metadata": {},
   "outputs": [],
   "source": [
    "X_train, X_test, y_train, y_test = train_test_split(X, y, test_size=0.20, random_state=42)"
   ]
  },
  {
   "cell_type": "markdown",
   "metadata": {},
   "source": [
    "After following the same procedure as above now split according to class labels to create five output layers"
   ]
  },
  {
   "cell_type": "code",
   "execution_count": 37,
   "metadata": {},
   "outputs": [],
   "source": [
    "# First output\n",
    "y1_train = y_train[[\"outwear\"]].values\n",
    "y1_test =  y_test[[\"outwear\"]].values\n",
    "\n",
    "# Second output\n",
    "y2_train = y_train[[\"top\"]].values\n",
    "y2_test =  y_test[[\"top\"]].values\n",
    "\n",
    "# Third output\n",
    "y3_train = y_train[[\"trousers\"]].values\n",
    "y3_test =  y_test[[\"trousers\"]].values\n",
    "\n",
    "# Fourth output\n",
    "y4_train = y_train[[\"women dresses\"]].values\n",
    "y4_test =  y_test[[\"women dresses\"]].values\n",
    "\n",
    "# Fifth output\n",
    "y5_train = y_train[[\"women skirts\"]].values\n",
    "y5_test =  y_test[[\"women skirts\"]].values"
   ]
  },
  {
   "cell_type": "code",
   "execution_count": 38,
   "metadata": {},
   "outputs": [],
   "source": [
    "# Tokenize and pad the sequences as before \n",
    "\n",
    "tokenizer = Tokenizer(num_words=5000)\n",
    "tokenizer.fit_on_texts(X_train)\n",
    "\n",
    "X_train = tokenizer.texts_to_sequences(X_train)\n",
    "X_test = tokenizer.texts_to_sequences(X_test)\n",
    "\n",
    "vocab_size = len(tokenizer.word_index) + 1\n",
    "\n",
    "maxlen = 36\n",
    "\n",
    "X_train = pad_sequences(X_train, padding='post', maxlen=maxlen)\n",
    "X_test = pad_sequences(X_test, padding='post', maxlen=maxlen)"
   ]
  },
  {
   "cell_type": "code",
   "execution_count": 39,
   "metadata": {},
   "outputs": [],
   "source": [
    "# Create the embedding matrix\n",
    "\n",
    "embedding_matrix = np.zeros((vocab_size, 100))\n",
    "for word, index in tokenizer.word_index.items():\n",
    "    embedding_vector = embeddings_dictionary.get(word)\n",
    "    if embedding_vector is not None:\n",
    "        embedding_matrix[index] = embedding_vector"
   ]
  },
  {
   "cell_type": "code",
   "execution_count": 40,
   "metadata": {},
   "outputs": [],
   "source": [
    "# Create the model with one output layer for each of the class labels\n",
    "\n",
    "input_1 = Input(shape=(maxlen,))\n",
    "embedding_layer = Embedding(vocab_size, 100, weights=[embedding_matrix], trainable=False)(input_1)\n",
    "LSTM_Layer1 = LSTM(128)(embedding_layer)\n",
    "\n",
    "output1 = Dense(1, activation='sigmoid')(LSTM_Layer1)\n",
    "output2 = Dense(1, activation='sigmoid')(LSTM_Layer1)\n",
    "output3 = Dense(1, activation='sigmoid')(LSTM_Layer1)\n",
    "output4 = Dense(1, activation='sigmoid')(LSTM_Layer1)\n",
    "output5 = Dense(1, activation='sigmoid')(LSTM_Layer1)\n",
    "\n",
    "model = Model(inputs=input_1, outputs=[output1, output2, output3, output4, output5])\n",
    "model.compile(loss='binary_crossentropy', optimizer='adam', metrics=['acc'])"
   ]
  },
  {
   "cell_type": "code",
   "execution_count": 41,
   "metadata": {},
   "outputs": [
    {
     "name": "stdout",
     "output_type": "stream",
     "text": [
      "Model: \"functional_3\"\n",
      "__________________________________________________________________________________________________\n",
      "Layer (type)                    Output Shape         Param #     Connected to                     \n",
      "==================================================================================================\n",
      "input_2 (InputLayer)            [(None, 36)]         0                                            \n",
      "__________________________________________________________________________________________________\n",
      "embedding_1 (Embedding)         (None, 36, 100)      388100      input_2[0][0]                    \n",
      "__________________________________________________________________________________________________\n",
      "lstm_1 (LSTM)                   (None, 128)          117248      embedding_1[0][0]                \n",
      "__________________________________________________________________________________________________\n",
      "dense_1 (Dense)                 (None, 1)            129         lstm_1[0][0]                     \n",
      "__________________________________________________________________________________________________\n",
      "dense_2 (Dense)                 (None, 1)            129         lstm_1[0][0]                     \n",
      "__________________________________________________________________________________________________\n",
      "dense_3 (Dense)                 (None, 1)            129         lstm_1[0][0]                     \n",
      "__________________________________________________________________________________________________\n",
      "dense_4 (Dense)                 (None, 1)            129         lstm_1[0][0]                     \n",
      "__________________________________________________________________________________________________\n",
      "dense_5 (Dense)                 (None, 1)            129         lstm_1[0][0]                     \n",
      "==================================================================================================\n",
      "Total params: 505,993\n",
      "Trainable params: 117,893\n",
      "Non-trainable params: 388,100\n",
      "__________________________________________________________________________________________________\n",
      "None\n"
     ]
    }
   ],
   "source": [
    "print(model.summary())"
   ]
  },
  {
   "cell_type": "code",
   "execution_count": 42,
   "metadata": {},
   "outputs": [
    {
     "name": "stdout",
     "output_type": "stream",
     "text": [
      "Epoch 1/20\n",
      "37/37 [==============================] - 2s 53ms/step - loss: 3.0115 - dense_1_loss: 0.7008 - dense_2_loss: 0.6895 - dense_3_loss: 0.6728 - dense_4_loss: 0.4845 - dense_5_loss: 0.4639 - dense_1_acc: 0.4988 - dense_2_acc: 0.5547 - dense_3_acc: 0.5780 - dense_4_acc: 0.8245 - dense_5_acc: 0.8251 - val_loss: 2.7801 - val_dense_1_loss: 0.6992 - val_dense_2_loss: 0.6851 - val_dense_3_loss: 0.6633 - val_dense_4_loss: 0.3719 - val_dense_5_loss: 0.3604 - val_dense_1_acc: 0.5064 - val_dense_2_acc: 0.5936 - val_dense_3_acc: 0.6588 - val_dense_4_acc: 0.8290 - val_dense_5_acc: 0.8366\n",
      "Epoch 2/20\n",
      "37/37 [==============================] - 1s 34ms/step - loss: 2.5271 - dense_1_loss: 0.6774 - dense_2_loss: 0.6710 - dense_3_loss: 0.5493 - dense_4_loss: 0.3179 - dense_5_loss: 0.3115 - dense_1_acc: 0.5863 - dense_2_acc: 0.5856 - dense_3_acc: 0.7264 - dense_4_acc: 0.8478 - dense_5_acc: 0.8465 - val_loss: 2.3464 - val_dense_1_loss: 0.6531 - val_dense_2_loss: 0.6033 - val_dense_3_loss: 0.4711 - val_dense_4_loss: 0.3123 - val_dense_5_loss: 0.3066 - val_dense_1_acc: 0.6308 - val_dense_2_acc: 0.6892 - val_dense_3_acc: 0.7773 - val_dense_4_acc: 0.8281 - val_dense_5_acc: 0.8400\n",
      "Epoch 3/20\n",
      "37/37 [==============================] - 1s 33ms/step - loss: 2.2467 - dense_1_loss: 0.6486 - dense_2_loss: 0.6009 - dense_3_loss: 0.4295 - dense_4_loss: 0.2950 - dense_5_loss: 0.2728 - dense_1_acc: 0.6307 - dense_2_acc: 0.6909 - dense_3_acc: 0.8003 - dense_4_acc: 0.8497 - dense_5_acc: 0.8516 - val_loss: 2.1853 - val_dense_1_loss: 0.6457 - val_dense_2_loss: 0.5394 - val_dense_3_loss: 0.4143 - val_dense_4_loss: 0.2980 - val_dense_5_loss: 0.2879 - val_dense_1_acc: 0.6283 - val_dense_2_acc: 0.7528 - val_dense_3_acc: 0.8222 - val_dense_4_acc: 0.8349 - val_dense_5_acc: 0.8510\n",
      "Epoch 4/20\n",
      "37/37 [==============================] - 1s 34ms/step - loss: 1.9971 - dense_1_loss: 0.6300 - dense_2_loss: 0.5370 - dense_3_loss: 0.3049 - dense_4_loss: 0.2772 - dense_5_loss: 0.2481 - dense_1_acc: 0.6496 - dense_2_acc: 0.7311 - dense_3_acc: 0.8747 - dense_4_acc: 0.8543 - dense_5_acc: 0.8738 - val_loss: 1.9400 - val_dense_1_loss: 0.6266 - val_dense_2_loss: 0.5034 - val_dense_3_loss: 0.2728 - val_dense_4_loss: 0.2800 - val_dense_5_loss: 0.2573 - val_dense_1_acc: 0.6469 - val_dense_2_acc: 0.7646 - val_dense_3_acc: 0.8857 - val_dense_4_acc: 0.8434 - val_dense_5_acc: 0.8713\n",
      "Epoch 5/20\n",
      "37/37 [==============================] - 1s 33ms/step - loss: 1.8223 - dense_1_loss: 0.6099 - dense_2_loss: 0.4977 - dense_3_loss: 0.2363 - dense_4_loss: 0.2636 - dense_5_loss: 0.2147 - dense_1_acc: 0.6614 - dense_2_acc: 0.7582 - dense_3_acc: 0.9094 - dense_4_acc: 0.8653 - dense_5_acc: 0.8903 - val_loss: 1.7728 - val_dense_1_loss: 0.6037 - val_dense_2_loss: 0.4570 - val_dense_3_loss: 0.2174 - val_dense_4_loss: 0.2766 - val_dense_5_loss: 0.2180 - val_dense_1_acc: 0.6596 - val_dense_2_acc: 0.7824 - val_dense_3_acc: 0.9170 - val_dense_4_acc: 0.8527 - val_dense_5_acc: 0.8967\n",
      "Epoch 6/20\n",
      "37/37 [==============================] - 1s 33ms/step - loss: 1.6498 - dense_1_loss: 0.5619 - dense_2_loss: 0.4633 - dense_3_loss: 0.2008 - dense_4_loss: 0.2433 - dense_5_loss: 0.1805 - dense_1_acc: 0.7061 - dense_2_acc: 0.7834 - dense_3_acc: 0.9270 - dense_4_acc: 0.8863 - dense_5_acc: 0.9210 - val_loss: 1.5892 - val_dense_1_loss: 0.5498 - val_dense_2_loss: 0.3793 - val_dense_3_loss: 0.2331 - val_dense_4_loss: 0.2309 - val_dense_5_loss: 0.1962 - val_dense_1_acc: 0.7282 - val_dense_2_acc: 0.8391 - val_dense_3_acc: 0.9069 - val_dense_4_acc: 0.8992 - val_dense_5_acc: 0.9162\n",
      "Epoch 7/20\n",
      "37/37 [==============================] - 1s 33ms/step - loss: 1.3170 - dense_1_loss: 0.4791 - dense_2_loss: 0.3706 - dense_3_loss: 0.1876 - dense_4_loss: 0.1713 - dense_5_loss: 0.1085 - dense_1_acc: 0.7834 - dense_2_acc: 0.8442 - dense_3_acc: 0.9320 - dense_4_acc: 0.9278 - dense_5_acc: 0.9593 - val_loss: 1.2357 - val_dense_1_loss: 0.4864 - val_dense_2_loss: 0.3118 - val_dense_3_loss: 0.1858 - val_dense_4_loss: 0.1601 - val_dense_5_loss: 0.0916 - val_dense_1_acc: 0.7578 - val_dense_2_acc: 0.8806 - val_dense_3_acc: 0.9306 - val_dense_4_acc: 0.9450 - val_dense_5_acc: 0.9797\n",
      "Epoch 8/20\n",
      "37/37 [==============================] - 1s 34ms/step - loss: 1.0367 - dense_1_loss: 0.4108 - dense_2_loss: 0.3044 - dense_3_loss: 0.1628 - dense_4_loss: 0.1031 - dense_5_loss: 0.0556 - dense_1_acc: 0.8249 - dense_2_acc: 0.8810 - dense_3_acc: 0.9441 - dense_4_acc: 0.9674 - dense_5_acc: 0.9867 - val_loss: 1.0075 - val_dense_1_loss: 0.4200 - val_dense_2_loss: 0.2565 - val_dense_3_loss: 0.1837 - val_dense_4_loss: 0.0868 - val_dense_5_loss: 0.0606 - val_dense_1_acc: 0.8239 - val_dense_2_acc: 0.9102 - val_dense_3_acc: 0.9390 - val_dense_4_acc: 0.9712 - val_dense_5_acc: 0.9839\n",
      "Epoch 9/20\n",
      "37/37 [==============================] - 1s 34ms/step - loss: 0.8551 - dense_1_loss: 0.3344 - dense_2_loss: 0.2541 - dense_3_loss: 0.1587 - dense_4_loss: 0.0664 - dense_5_loss: 0.0414 - dense_1_acc: 0.8683 - dense_2_acc: 0.9058 - dense_3_acc: 0.9441 - dense_4_acc: 0.9826 - dense_5_acc: 0.9920 - val_loss: 0.9300 - val_dense_1_loss: 0.3291 - val_dense_2_loss: 0.2346 - val_dense_3_loss: 0.1968 - val_dense_4_loss: 0.0834 - val_dense_5_loss: 0.0861 - val_dense_1_acc: 0.8594 - val_dense_2_acc: 0.9136 - val_dense_3_acc: 0.9306 - val_dense_4_acc: 0.9746 - val_dense_5_acc: 0.9746\n",
      "Epoch 10/20\n",
      "37/37 [==============================] - 1s 34ms/step - loss: 0.7412 - dense_1_loss: 0.2719 - dense_2_loss: 0.2297 - dense_3_loss: 0.1450 - dense_4_loss: 0.0565 - dense_5_loss: 0.0381 - dense_1_acc: 0.8990 - dense_2_acc: 0.9140 - dense_3_acc: 0.9502 - dense_4_acc: 0.9858 - dense_5_acc: 0.9924 - val_loss: 0.8154 - val_dense_1_loss: 0.2793 - val_dense_2_loss: 0.2113 - val_dense_3_loss: 0.1931 - val_dense_4_loss: 0.0637 - val_dense_5_loss: 0.0680 - val_dense_1_acc: 0.9009 - val_dense_2_acc: 0.9221 - val_dense_3_acc: 0.9331 - val_dense_4_acc: 0.9831 - val_dense_5_acc: 0.9814\n",
      "Epoch 11/20\n",
      "37/37 [==============================] - 1s 35ms/step - loss: 0.6197 - dense_1_loss: 0.2263 - dense_2_loss: 0.1890 - dense_3_loss: 0.1228 - dense_4_loss: 0.0452 - dense_5_loss: 0.0365 - dense_1_acc: 0.9191 - dense_2_acc: 0.9344 - dense_3_acc: 0.9598 - dense_4_acc: 0.9888 - dense_5_acc: 0.9920 - val_loss: 0.8147 - val_dense_1_loss: 0.2737 - val_dense_2_loss: 0.2098 - val_dense_3_loss: 0.1912 - val_dense_4_loss: 0.0756 - val_dense_5_loss: 0.0643 - val_dense_1_acc: 0.9094 - val_dense_2_acc: 0.9238 - val_dense_3_acc: 0.9373 - val_dense_4_acc: 0.9771 - val_dense_5_acc: 0.9865\n",
      "Epoch 12/20\n",
      "37/37 [==============================] - 1s 34ms/step - loss: 0.5736 - dense_1_loss: 0.2077 - dense_2_loss: 0.1862 - dense_3_loss: 0.1132 - dense_4_loss: 0.0385 - dense_5_loss: 0.0280 - dense_1_acc: 0.9299 - dense_2_acc: 0.9373 - dense_3_acc: 0.9613 - dense_4_acc: 0.9905 - dense_5_acc: 0.9941 - val_loss: 0.7292 - val_dense_1_loss: 0.2538 - val_dense_2_loss: 0.1940 - val_dense_3_loss: 0.1681 - val_dense_4_loss: 0.0593 - val_dense_5_loss: 0.0540 - val_dense_1_acc: 0.9128 - val_dense_2_acc: 0.9356 - val_dense_3_acc: 0.9441 - val_dense_4_acc: 0.9839 - val_dense_5_acc: 0.9865\n",
      "Epoch 13/20\n",
      "37/37 [==============================] - 1s 34ms/step - loss: 0.4726 - dense_1_loss: 0.1789 - dense_2_loss: 0.1527 - dense_3_loss: 0.0871 - dense_4_loss: 0.0322 - dense_5_loss: 0.0217 - dense_1_acc: 0.9403 - dense_2_acc: 0.9505 - dense_3_acc: 0.9704 - dense_4_acc: 0.9928 - dense_5_acc: 0.9960 - val_loss: 0.7400 - val_dense_1_loss: 0.2668 - val_dense_2_loss: 0.1932 - val_dense_3_loss: 0.1589 - val_dense_4_loss: 0.0665 - val_dense_5_loss: 0.0546 - val_dense_1_acc: 0.9086 - val_dense_2_acc: 0.9306 - val_dense_3_acc: 0.9517 - val_dense_4_acc: 0.9831 - val_dense_5_acc: 0.9865\n",
      "Epoch 14/20\n",
      "37/37 [==============================] - 1s 34ms/step - loss: 0.4244 - dense_1_loss: 0.1634 - dense_2_loss: 0.1339 - dense_3_loss: 0.0767 - dense_4_loss: 0.0301 - dense_5_loss: 0.0203 - dense_1_acc: 0.9460 - dense_2_acc: 0.9572 - dense_3_acc: 0.9778 - dense_4_acc: 0.9932 - dense_5_acc: 0.9960 - val_loss: 0.7795 - val_dense_1_loss: 0.2645 - val_dense_2_loss: 0.2096 - val_dense_3_loss: 0.1716 - val_dense_4_loss: 0.0648 - val_dense_5_loss: 0.0691 - val_dense_1_acc: 0.9102 - val_dense_2_acc: 0.9348 - val_dense_3_acc: 0.9492 - val_dense_4_acc: 0.9797 - val_dense_5_acc: 0.9856\n"
     ]
    },
    {
     "name": "stdout",
     "output_type": "stream",
     "text": [
      "Epoch 15/20\n",
      "37/37 [==============================] - 1s 34ms/step - loss: 0.4246 - dense_1_loss: 0.1571 - dense_2_loss: 0.1374 - dense_3_loss: 0.0776 - dense_4_loss: 0.0325 - dense_5_loss: 0.0200 - dense_1_acc: 0.9490 - dense_2_acc: 0.9547 - dense_3_acc: 0.9771 - dense_4_acc: 0.9920 - dense_5_acc: 0.9956 - val_loss: 0.7702 - val_dense_1_loss: 0.2577 - val_dense_2_loss: 0.2081 - val_dense_3_loss: 0.1851 - val_dense_4_loss: 0.0573 - val_dense_5_loss: 0.0621 - val_dense_1_acc: 0.9145 - val_dense_2_acc: 0.9229 - val_dense_3_acc: 0.9441 - val_dense_4_acc: 0.9873 - val_dense_5_acc: 0.9865\n",
      "Epoch 16/20\n",
      "37/37 [==============================] - 1s 34ms/step - loss: 0.4006 - dense_1_loss: 0.1405 - dense_2_loss: 0.1368 - dense_3_loss: 0.0766 - dense_4_loss: 0.0275 - dense_5_loss: 0.0192 - dense_1_acc: 0.9560 - dense_2_acc: 0.9566 - dense_3_acc: 0.9767 - dense_4_acc: 0.9936 - dense_5_acc: 0.9960 - val_loss: 0.8047 - val_dense_1_loss: 0.2788 - val_dense_2_loss: 0.2098 - val_dense_3_loss: 0.1831 - val_dense_4_loss: 0.0630 - val_dense_5_loss: 0.0700 - val_dense_1_acc: 0.9086 - val_dense_2_acc: 0.9356 - val_dense_3_acc: 0.9416 - val_dense_4_acc: 0.9856 - val_dense_5_acc: 0.9856\n",
      "Epoch 17/20\n",
      "37/37 [==============================] - 1s 34ms/step - loss: 0.3570 - dense_1_loss: 0.1318 - dense_2_loss: 0.1151 - dense_3_loss: 0.0697 - dense_4_loss: 0.0247 - dense_5_loss: 0.0157 - dense_1_acc: 0.9591 - dense_2_acc: 0.9649 - dense_3_acc: 0.9778 - dense_4_acc: 0.9941 - dense_5_acc: 0.9970 - val_loss: 0.7085 - val_dense_1_loss: 0.2230 - val_dense_2_loss: 0.1765 - val_dense_3_loss: 0.1818 - val_dense_4_loss: 0.0532 - val_dense_5_loss: 0.0740 - val_dense_1_acc: 0.9289 - val_dense_2_acc: 0.9365 - val_dense_3_acc: 0.9458 - val_dense_4_acc: 0.9865 - val_dense_5_acc: 0.9856\n",
      "Epoch 18/20\n",
      "37/37 [==============================] - 1s 35ms/step - loss: 0.3394 - dense_1_loss: 0.1196 - dense_2_loss: 0.1143 - dense_3_loss: 0.0647 - dense_4_loss: 0.0202 - dense_5_loss: 0.0206 - dense_1_acc: 0.9640 - dense_2_acc: 0.9646 - dense_3_acc: 0.9790 - dense_4_acc: 0.9958 - dense_5_acc: 0.9958 - val_loss: 0.7270 - val_dense_1_loss: 0.2273 - val_dense_2_loss: 0.1739 - val_dense_3_loss: 0.1510 - val_dense_4_loss: 0.0826 - val_dense_5_loss: 0.0923 - val_dense_1_acc: 0.9323 - val_dense_2_acc: 0.9407 - val_dense_3_acc: 0.9560 - val_dense_4_acc: 0.9780 - val_dense_5_acc: 0.9771\n",
      "Epoch 19/20\n",
      "37/37 [==============================] - 1s 35ms/step - loss: 0.3117 - dense_1_loss: 0.1157 - dense_2_loss: 0.1027 - dense_3_loss: 0.0556 - dense_4_loss: 0.0215 - dense_5_loss: 0.0162 - dense_1_acc: 0.9634 - dense_2_acc: 0.9708 - dense_3_acc: 0.9839 - dense_4_acc: 0.9945 - dense_5_acc: 0.9964 - val_loss: 0.7294 - val_dense_1_loss: 0.2253 - val_dense_2_loss: 0.1836 - val_dense_3_loss: 0.1727 - val_dense_4_loss: 0.0823 - val_dense_5_loss: 0.0655 - val_dense_1_acc: 0.9255 - val_dense_2_acc: 0.9399 - val_dense_3_acc: 0.9568 - val_dense_4_acc: 0.9780 - val_dense_5_acc: 0.9873\n",
      "Epoch 20/20\n",
      "37/37 [==============================] - 1s 35ms/step - loss: 0.3108 - dense_1_loss: 0.1140 - dense_2_loss: 0.1003 - dense_3_loss: 0.0529 - dense_4_loss: 0.0260 - dense_5_loss: 0.0177 - dense_1_acc: 0.9640 - dense_2_acc: 0.9695 - dense_3_acc: 0.9837 - dense_4_acc: 0.9934 - dense_5_acc: 0.9958 - val_loss: 0.7328 - val_dense_1_loss: 0.2404 - val_dense_2_loss: 0.1832 - val_dense_3_loss: 0.1749 - val_dense_4_loss: 0.0669 - val_dense_5_loss: 0.0673 - val_dense_1_acc: 0.9272 - val_dense_2_acc: 0.9365 - val_dense_3_acc: 0.9526 - val_dense_4_acc: 0.9856 - val_dense_5_acc: 0.9865\n"
     ]
    }
   ],
   "source": [
    "# Test the model for 20 epochs\n",
    "history = model.fit(x=X_train, y=[y1_train, y2_train, y3_train, y4_train, y5_train], batch_size=128, epochs=20, verbose=1, validation_split=0.2)"
   ]
  },
  {
   "cell_type": "code",
   "execution_count": 43,
   "metadata": {},
   "outputs": [
    {
     "name": "stdout",
     "output_type": "stream",
     "text": [
      "47/47 [==============================] - 0s 6ms/step - loss: 0.5873 - dense_1_loss: 0.1935 - dense_2_loss: 0.2099 - dense_3_loss: 0.1237 - dense_4_loss: 0.0304 - dense_5_loss: 0.0298 - dense_1_acc: 0.9390 - dense_2_acc: 0.9363 - dense_3_acc: 0.9627 - dense_4_acc: 0.9905 - dense_5_acc: 0.9946\n"
     ]
    },
    {
     "data": {
      "text/plain": [
       "[0.5873477458953857,\n",
       " 0.19346225261688232,\n",
       " 0.20992760360240936,\n",
       " 0.1237347275018692,\n",
       " 0.030403364449739456,\n",
       " 0.02981983684003353,\n",
       " 0.9390243887901306,\n",
       " 0.9363143444061279,\n",
       " 0.9627371430397034,\n",
       " 0.9905149340629578,\n",
       " 0.9945799708366394]"
      ]
     },
     "execution_count": 43,
     "metadata": {},
     "output_type": "execute_result"
    }
   ],
   "source": [
    "# Check the accuracy on the testing data\n",
    "score = model.evaluate(x=X_test, y=[y1_test, y2_test, y3_test, y4_test, y5_test], verbose=1)\n",
    "score"
   ]
  },
  {
   "cell_type": "code",
   "execution_count": 44,
   "metadata": {},
   "outputs": [
    {
     "data": {
      "image/png": "[encoded data removed]",
      "text/plain": [
       "<Figure size 432x288 with 1 Axes>"
      ]
     },
     "metadata": {
      "needs_background": "light"
     },
     "output_type": "display_data"
    },
    {
     "data": {
      "image/png": "[encoded data removed]",
      "text/plain": [
       "<Figure size 432x288 with 1 Axes>"
      ]
     },
     "metadata": {
      "needs_background": "light"
     },
     "output_type": "display_data"
    }
   ],
   "source": [
    "# Plot the accuracy and loss over the epochs for one of the class labels\n",
    "\n",
    "plt.plot(history.history['dense_1_acc'])\n",
    "plt.plot(history.history['val_dense_1_acc'])\n",
    "\n",
    "plt.title('model accuracy')\n",
    "plt.ylabel('accuracy')\n",
    "plt.xlabel('epoch')\n",
    "plt.legend(['train','test'], loc='upper left')\n",
    "plt.show()\n",
    "\n",
    "plt.plot(history.history['dense_1_loss'])\n",
    "plt.plot(history.history['val_dense_1_loss'])\n",
    "\n",
    "plt.title('model loss')\n",
    "plt.ylabel('loss')\n",
    "plt.xlabel('epoch')\n",
    "plt.legend(['train','test'], loc='upper left')\n",
    "plt.show()"
   ]
  },
  {
   "cell_type": "markdown",
   "metadata": {},
   "source": [
    "This model works extremely well. "
   ]
  },
  {
   "cell_type": "code",
   "execution_count": null,
   "metadata": {},
   "outputs": [],
   "source": []
  }
 ],
 "metadata": {
  "kernelspec": {
   "display_name": "Python 3",
   "language": "python",
   "name": "python3"
  },
  "language_info": {
   "codemirror_mode": {
    "name": "ipython",
    "version": 3
   },
   "file_extension": ".py",
   "mimetype": "text/x-python",
   "name": "python",
   "nbconvert_exporter": "python",
   "pygments_lexer": "ipython3",
   "version": "3.8.3"
  }
 },
 "nbformat": 4,
 "nbformat_minor": 4
}

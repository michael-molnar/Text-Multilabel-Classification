{
 "cells": [
  {
   "cell_type": "markdown",
   "metadata": {},
   "source": [
    "### NLP - Notebook 3\n",
    "\n",
    "### Modelling Approaches and Testing of NLP Data"
   ]
  },
  {
   "cell_type": "markdown",
   "metadata": {},
   "source": [
    "In this notebook we will first define an evaluation metric and then begin testing models. \n",
    "\n",
    "<b>We are dealing with a multi-label classification problem and have two approaches:</b>\n",
    "\n",
    "- We can transform the problem into a series of binary classification problems;\n",
    "\n",
    "- We can use an algorithm that has been adapted for multi-label problems. \n",
    "\n",
    "In the first case we will explore four models, and we will try four classifiers for each.  \n",
    "\n",
    "<b>The four models we will use here are</b>:\n",
    "\n",
    "- OneVsRest\n",
    "- Binary Relevance\n",
    "- Classifier Chains \n",
    "- Label Powerset\n",
    "\n",
    "<b>The classifiers we will use are:</b>\n",
    "\n",
    "- Logistic Regression\n",
    "- Multinomial Naive Bayes\n",
    "- C-Support Vector Classification \n",
    "- Random Forest\n",
    "\n",
    "\n",
    "\n",
    "In terms of adapted algorirthms, we will test Multilabel k Nearest Neighbours (MLkNN).  We will also test two deep learning models that use the embeddings in the next notebook."
   ]
  },
  {
   "cell_type": "markdown",
   "metadata": {},
   "source": [
    "### Evaluation Metric"
   ]
  },
  {
   "cell_type": "markdown",
   "metadata": {},
   "source": [
    "For this multi-label classification problem we have several choices for an evaluation metric.  Some of these are Log-Loss, AUC (Area Under the ROC Curve), Micro-averaging and Macro Averaging, Hamming-Loss, F1 Score, and Exact Match Ratio.\n",
    "\n",
    "We will use F1 Score with the parameter average='samples' to allow for use with multiple labels like we have.  Since our label distribution is imbalanced, we will use the Balanced Accuracy Score (exact match ratio) where we evaluate the model individually for each category like we do in OneVsRest.  This accuracy score measures the percentage of rows where each label is correctly predicted.  "
   ]
  },
  {
   "cell_type": "markdown",
   "metadata": {},
   "source": [
    "### Algorithms for transforming the multi-label classification problem"
   ]
  },
  {
   "cell_type": "markdown",
   "metadata": {},
   "source": [
    "1 - OneVsRest\n",
    "\n",
    "Decomposes the problem into one independent binary classification problem per category.  This model assumes that the class labels are mutually exclusive.  It trains a classifier on one class at a time, leaving the rest out.  OneVsRest faces difficulties when the number of label classes is large or when the classes are not independent. \n",
    "\n",
    "2 - Binary Relevance\n",
    "\n",
    "Similar to OneVsRest in that a binary classifier is trained independently for each class label.  The model predicts all labels for a sample for which a postive result was obtained from the respective classifier.  Like OneVsRest this ignores possible correlations between class labels.  \n",
    "\n",
    "3 - Classifier Chains \n",
    "\n",
    "Creates a chain of binary classifiers.  The first is trained on the input data and each subsequent classifier is trained on the results of all previous classifiers as well as the input data.  This takes into account label correlations.  Training with this model will take longer with more label classes.  \n",
    "\n",
    "4 - Label Powerset\n",
    "\n",
    "Transforms a multi-label problem into a multi-class problem.  Maps each combination of labels into a single lable and trains a single classifier.  The number of label combinations can grow exponentially as the number of classes increases.  It factors in correlations between labels but has a high computational complexity.  "
   ]
  },
  {
   "cell_type": "markdown",
   "metadata": {},
   "source": [
    "### Algorithm adapted for multi-label classification"
   ]
  },
  {
   "cell_type": "markdown",
   "metadata": {},
   "source": [
    "1 - ML-KNN\n",
    "\n",
    "k-Nearest Neighbours adapted for multi-label classification.  It finds the nearest examples to a test class and uses Bayesian inference to assign the labels.  "
   ]
  },
  {
   "cell_type": "code",
   "execution_count": 1,
   "metadata": {},
   "outputs": [],
   "source": [
    "import pandas as pd\n",
    "import numpy as np\n",
    "import matplotlib.pyplot as plt"
   ]
  },
  {
   "cell_type": "code",
   "execution_count": 2,
   "metadata": {},
   "outputs": [],
   "source": [
    "# Import the datasets\n",
    "X_train = pd.read_csv('Data\\X_train_nlp.csv')\n",
    "X_test = pd.read_csv('Data\\X_test_nlp.csv')\n",
    "y_train = pd.read_csv('Data\\y_train_nlp.csv')\n",
    "y_test = pd.read_csv('Data\\y_test_nlp.csv')\n",
    "\n",
    "# Make a copy for later use\n",
    "X_train2 = X_train.copy()\n",
    "X_test2 = X_test.copy()"
   ]
  },
  {
   "cell_type": "code",
   "execution_count": 3,
   "metadata": {},
   "outputs": [],
   "source": [
    "X_train = X_train['no_stop_words']\n",
    "X_test = X_test['no_stop_words']"
   ]
  },
  {
   "cell_type": "code",
   "execution_count": 4,
   "metadata": {},
   "outputs": [],
   "source": [
    "# For now we will work with Scikit-Learn's Tfidf Vectorizer.  \n",
    "# Tfidf (Term Fequency - Inverse Document) assigns a score to a word's importance by measuring a word's frequency \n",
    "# within one document and uniqueness across all documents\n",
    "\n",
    "from sklearn.feature_extraction.text import TfidfVectorizer\n",
    "\n",
    "# Define the list of categories\n",
    "categories = list(y_train.columns)"
   ]
  },
  {
   "cell_type": "code",
   "execution_count": 5,
   "metadata": {},
   "outputs": [],
   "source": [
    "# We will use a pipeline for each test, defining the vectorizer above, the learning algorithm, and the classifier \n",
    "from sklearn.pipeline import Pipeline\n",
    "\n",
    "# We will use accuracy_score as outlined above\n",
    "from sklearn.metrics import balanced_accuracy_score"
   ]
  },
  {
   "cell_type": "markdown",
   "metadata": {},
   "source": [
    "### OneVsRest"
   ]
  },
  {
   "cell_type": "code",
   "execution_count": 6,
   "metadata": {},
   "outputs": [
    {
     "name": "stdout",
     "output_type": "stream",
     "text": [
      "Test accuracy for outerwear labels is 0.9454689252538035\n",
      "Test accuracy for tops labels is 0.9634146341463414\n",
      "Test accuracy for pants labels is 0.9612384858468366\n",
      "Test accuracy for dresses labels is 0.9742607999881461\n",
      "Test accuracy for skirts labels is 0.9842014962034318\n"
     ]
    }
   ],
   "source": [
    "# OneVs Rest with Logistic Regression Classifer\n",
    "from sklearn.multiclass import OneVsRestClassifier\n",
    "from sklearn.linear_model import LogisticRegression\n",
    "\n",
    "# Using pipeline for applying logistic regression and one vs rest classifier\n",
    "LogReg_pipeline = Pipeline([\n",
    "                ('tfidf', TfidfVectorizer()),\n",
    "                ('clf', OneVsRestClassifier(LogisticRegression(), n_jobs=1)),\n",
    "                ])\n",
    "\n",
    "# Create a dictionary of the accuracies for plotting \n",
    "accuracies_ovr_lr = dict()\n",
    "for category in categories:\n",
    "        \n",
    "    # Training logistic regression model on training data\n",
    "    LogReg_pipeline.fit(X_train, y_train[category])\n",
    "    \n",
    "    # Predicting and calculating test accuracy\n",
    "    prediction = LogReg_pipeline.predict(X_test)\n",
    "    accuracies_ovr_lr[category] = balanced_accuracy_score(y_test[category], prediction)\n",
    "    print('Test accuracy for {} labels is {}'.format(category, accuracies_ovr_lr[category]))"
   ]
  },
  {
   "cell_type": "code",
   "execution_count": 7,
   "metadata": {},
   "outputs": [
    {
     "name": "stdout",
     "output_type": "stream",
     "text": [
      "Test accuracy for outerwear labels is 0.8564062005694401\n",
      "Test accuracy for tops labels is 0.8522357723577236\n",
      "Test accuracy for pants labels is 0.814365330165774\n",
      "Test accuracy for dresses labels is 0.6425013150388584\n",
      "Test accuracy for skirts labels is 0.6708499975658295\n"
     ]
    }
   ],
   "source": [
    "# MULTINOMIAL NAIVE BAYES CLASSIFIER\n",
    "from sklearn.naive_bayes import MultinomialNB\n",
    "\n",
    "NB_pipeline = Pipeline([\n",
    "                ('tfidf', TfidfVectorizer()),\n",
    "                ('clf', OneVsRestClassifier(MultinomialNB(\n",
    "                    fit_prior=True, class_prior=None))),\n",
    "                ])\n",
    "\n",
    "accuracies_ovr_nb = dict()\n",
    "\n",
    "for category in categories:\n",
    "    \n",
    "    NB_pipeline.fit(X_train, y_train[category])\n",
    "    \n",
    "    prediction = NB_pipeline.predict(X_test)\n",
    "    accuracies_ovr_nb[category] = balanced_accuracy_score(y_test[category], prediction)\n",
    "    print('Test accuracy for {} labels is {}'.format(category, accuracies_ovr_nb[category]))"
   ]
  },
  {
   "cell_type": "code",
   "execution_count": 8,
   "metadata": {},
   "outputs": [
    {
     "name": "stdout",
     "output_type": "stream",
     "text": [
      "Test accuracy for outerwear labels is 0.9640369437585509\n",
      "Test accuracy for tops labels is 0.9742886178861789\n",
      "Test accuracy for pants labels is 0.9814578243946899\n",
      "Test accuracy for dresses labels is 0.9885180438148722\n",
      "Test accuracy for skirts labels is 0.9877472711474089\n"
     ]
    }
   ],
   "source": [
    "# SVC CLASSIFIER\n",
    "from sklearn.svm import LinearSVC\n",
    "\n",
    "SVC_pipeline = Pipeline([\n",
    "                ('tfidf', TfidfVectorizer()),\n",
    "                ('clf', OneVsRestClassifier(LinearSVC(), n_jobs=1)),\n",
    "                ])\n",
    "\n",
    "accuracies_ovr_svc = dict()\n",
    "\n",
    "for category in categories:\n",
    "    \n",
    "    SVC_pipeline.fit(X_train, y_train[category])\n",
    "    \n",
    "    prediction = SVC_pipeline.predict(X_test)\n",
    "    accuracies_ovr_svc[category] = balanced_accuracy_score(y_test[category], prediction)\n",
    "    print('Test accuracy for {} labels is {}'.format(category, accuracies_ovr_svc[category]))"
   ]
  },
  {
   "cell_type": "code",
   "execution_count": 9,
   "metadata": {},
   "outputs": [
    {
     "name": "stdout",
     "output_type": "stream",
     "text": [
      "Test accuracy for outerwear labels is 0.9433448234776929\n",
      "Test accuracy for tops labels is 0.9604674796747967\n",
      "Test accuracy for pants labels is 0.940981794004049\n",
      "Test accuracy for dresses labels is 0.9868777643598539\n",
      "Test accuracy for skirts labels is 0.9880179804056656\n"
     ]
    }
   ],
   "source": [
    "# RANDOM FOREST CLASSIFIER\n",
    "from sklearn.ensemble import RandomForestClassifier\n",
    "\n",
    "RF_pipeline = Pipeline([\n",
    "                ('tfidf', TfidfVectorizer()),\n",
    "                ('clf', OneVsRestClassifier(RandomForestClassifier(), n_jobs=1)),\n",
    "                ])\n",
    "    \n",
    "accuracies_ovr_rf = dict()\n",
    "\n",
    "for category in categories:\n",
    "    \n",
    "    RF_pipeline.fit(X_train, y_train[category])\n",
    "    \n",
    "    prediction = RF_pipeline.predict(X_test)\n",
    "    accuracies_ovr_rf[category] = balanced_accuracy_score(y_test[category], prediction)\n",
    "    print('Test accuracy for {} labels is {}'.format(category, accuracies_ovr_rf[category]))"
   ]
  },
  {
   "cell_type": "markdown",
   "metadata": {},
   "source": [
    "<b> OneVsRest Results:</b>"
   ]
  },
  {
   "cell_type": "code",
   "execution_count": 10,
   "metadata": {},
   "outputs": [
    {
     "data": {
      "image/png": "[encoded data removed]",
      "text/plain": [
       "<Figure size 432x288 with 1 Axes>"
      ]
     },
     "metadata": {
      "needs_background": "light"
     },
     "output_type": "display_data"
    }
   ],
   "source": [
    "# Store each dictionary within a dictionary to plot\n",
    "onevrest_results = {'lr': accuracies_ovr_lr, \n",
    "                    'nb': accuracies_ovr_nb, \n",
    "                    'svc': accuracies_ovr_svc, \n",
    "                    'rf': accuracies_ovr_rf}\n",
    "pd.DataFrame(onevrest_results).T.plot(kind='bar', title='Accuracies of OneVsRest by Balanced Accuracy Score')\n",
    "plt.ylabel('Accuracies')\n",
    "plt.xlabel('Classifier')\n",
    "plt.legend(loc='center left', bbox_to_anchor=(1.0, 0.5), title='labels')\n",
    "plt.show()"
   ]
  },
  {
   "cell_type": "markdown",
   "metadata": {},
   "source": [
    "### Binary Relevance"
   ]
  },
  {
   "cell_type": "code",
   "execution_count": 11,
   "metadata": {},
   "outputs": [],
   "source": [
    "from skmultilearn.problem_transform import BinaryRelevance\n",
    "from sklearn.metrics import f1_score\n",
    "\n",
    "# Create a dictionary to store accuracies for plotting\n",
    "accuracies_br = dict()"
   ]
  },
  {
   "cell_type": "code",
   "execution_count": 12,
   "metadata": {},
   "outputs": [
    {
     "name": "stdout",
     "output_type": "stream",
     "text": [
      "Accuracy =  0.9564137308039747\n"
     ]
    }
   ],
   "source": [
    "# LOGISTIC REGRESSION CLASSIFIER\n",
    "\n",
    "LogReg_pipeline = Pipeline([\n",
    "                ('tfidf', TfidfVectorizer()),\n",
    "                ('clf', BinaryRelevance(LogisticRegression(solver='sag'), require_dense=[False, True]))\n",
    "                ])\n",
    "\n",
    "# Train\n",
    "LogReg_pipeline.fit(X_train, y_train)\n",
    "# Predict\n",
    "prediction = LogReg_pipeline.predict(X_test)\n",
    "# Measure accuracy\n",
    "accuracies_br['lr'] = f1_score(y_test, prediction, average='samples')\n",
    "print(\"Accuracy = \", accuracies_br['lr'])"
   ]
  },
  {
   "cell_type": "code",
   "execution_count": 13,
   "metadata": {},
   "outputs": [
    {
     "name": "stdout",
     "output_type": "stream",
     "text": [
      "Accuracy =  0.7653267088226439\n"
     ]
    }
   ],
   "source": [
    "# MULTINOMIAL NAIVE BAYES CLASSIFIER\n",
    "from skmultilearn.problem_transform import BinaryRelevance\n",
    "NB_pipeline = Pipeline([\n",
    "            ('tfidf', TfidfVectorizer()),\n",
    "            ('clf', BinaryRelevance(MultinomialNB(), require_dense=[False, True]))\n",
    "            ])\n",
    "\n",
    "NB_pipeline.fit(X_train, y_train)\n",
    "    \n",
    "prediction = NB_pipeline.predict(X_test)\n",
    "accuracies_br['nb'] = f1_score(y_test, prediction, average='samples')\n",
    "print(\"Accuracy = \", accuracies_br['nb'])"
   ]
  },
  {
   "cell_type": "code",
   "execution_count": 14,
   "metadata": {},
   "outputs": [
    {
     "name": "stdout",
     "output_type": "stream",
     "text": [
      "Accuracy =  0.9729298404095151\n"
     ]
    }
   ],
   "source": [
    "# Binary Relevance with Linear SVC CLASSIFIER\n",
    "from sklearn.svm import LinearSVC\n",
    "from skmultilearn.problem_transform import BinaryRelevance\n",
    "from sklearn.metrics import f1_score\n",
    "\n",
    "SVC_pipeline = Pipeline([\n",
    "            ('tfidf', TfidfVectorizer()),\n",
    "            ('clf', BinaryRelevance(LinearSVC(), require_dense=[False, True])),\n",
    "            ])\n",
    "\n",
    "SVC_pipeline.fit(X_train, y_train)\n",
    "    \n",
    "prediction = SVC_pipeline.predict(X_test)\n",
    "accuracies_br['svc'] = f1_score(y_test, prediction, average='samples')\n",
    "print(\"Accuracy = \", accuracies_br['svc'])"
   ]
  },
  {
   "cell_type": "code",
   "execution_count": 15,
   "metadata": {},
   "outputs": [
    {
     "name": "stdout",
     "output_type": "stream",
     "text": [
      "Accuracy =  0.9483245149911814\n"
     ]
    }
   ],
   "source": [
    "# RANDOM FOREST CLASSIFIER \n",
    "RF_pipeline = Pipeline([\n",
    "            ('tfidf', TfidfVectorizer()),\n",
    "            ('clf', BinaryRelevance(RandomForestClassifier(), require_dense=[False, True])),\n",
    "            ])\n",
    "\n",
    "RF_pipeline.fit(X_train, y_train)\n",
    "    \n",
    "prediction = RF_pipeline.predict(X_test)\n",
    "accuracies_br['rf'] = f1_score(y_test, prediction, average='samples')\n",
    "print(\"Accuracy = \", accuracies_br['rf'])"
   ]
  },
  {
   "cell_type": "markdown",
   "metadata": {},
   "source": [
    "<b> Binary Relevance Results:</b>"
   ]
  },
  {
   "cell_type": "code",
   "execution_count": 16,
   "metadata": {},
   "outputs": [
    {
     "data": {
      "image/png": "[encoded data removed]",
      "text/plain": [
       "<Figure size 432x288 with 1 Axes>"
      ]
     },
     "metadata": {
      "needs_background": "light"
     },
     "output_type": "display_data"
    }
   ],
   "source": [
    "plt.bar(accuracies_br.keys(), accuracies_br.values())\n",
    "plt.ylabel('Accuracy')\n",
    "plt.xlabel('Classifier')\n",
    "plt.title('Accuracies of Binary Relevance by F1 Score')\n",
    "plt.show()"
   ]
  },
  {
   "cell_type": "markdown",
   "metadata": {},
   "source": [
    "### Classifier Chains"
   ]
  },
  {
   "cell_type": "code",
   "execution_count": 17,
   "metadata": {},
   "outputs": [],
   "source": [
    "from skmultilearn.problem_transform import ClassifierChain\n",
    "\n",
    "# Create a dictionary to store accuracies for plotting\n",
    "accuracies_cc = dict()"
   ]
  },
  {
   "cell_type": "code",
   "execution_count": 18,
   "metadata": {},
   "outputs": [
    {
     "name": "stdout",
     "output_type": "stream",
     "text": [
      "Accuracy =  0.9512496236073471\n"
     ]
    }
   ],
   "source": [
    "# LOGISTIC REGRESSION CLASSIFIER\n",
    "\n",
    "LogReg_pipeline = Pipeline([\n",
    "                ('tfidf', TfidfVectorizer()),\n",
    "                ('clf', ClassifierChain(LogisticRegression(solver='sag')))\n",
    "                ])\n",
    "# Train\n",
    "LogReg_pipeline.fit(X_train, y_train)\n",
    "# Predict\n",
    "prediction = LogReg_pipeline.predict(X_test)\n",
    "# Measure accuracy\n",
    "accuracies_cc['lr'] = f1_score(y_test, prediction, average='samples')\n",
    "print(\"Accuracy = \", accuracies_cc['lr'])"
   ]
  },
  {
   "cell_type": "code",
   "execution_count": 19,
   "metadata": {},
   "outputs": [
    {
     "name": "stdout",
     "output_type": "stream",
     "text": [
      "Accuracy =  0.7904095152062632\n"
     ]
    }
   ],
   "source": [
    "# MULTINOMIAL NAIVE BAYES CLASSIFIER\n",
    "NB_pipeline = Pipeline([\n",
    "            ('tfidf', TfidfVectorizer()),\n",
    "            ('clf', ClassifierChain(MultinomialNB()))\n",
    "            ])\n",
    "\n",
    "NB_pipeline.fit(X_train, y_train)\n",
    "\n",
    "prediction = NB_pipeline.predict(X_test)\n",
    "accuracies_cc['nb'] = f1_score(y_test, prediction, average='samples')\n",
    "print(\"Accuracy = \", accuracies_cc['nb'])"
   ]
  },
  {
   "cell_type": "code",
   "execution_count": 20,
   "metadata": {},
   "outputs": [
    {
     "name": "stdout",
     "output_type": "stream",
     "text": [
      "Accuracy =  0.9724781692261367\n"
     ]
    }
   ],
   "source": [
    "# SVC CLASSIFIER \n",
    "SVC_pipeline = Pipeline([\n",
    "                ('tfidf', TfidfVectorizer()),\n",
    "                ('clf', ClassifierChain(LinearSVC()))\n",
    "                ])\n",
    "\n",
    "SVC_pipeline.fit(X_train, y_train)\n",
    "\n",
    "prediction = SVC_pipeline.predict(X_test)\n",
    "accuracies_cc['svc'] = f1_score(y_test, prediction, average='samples')\n",
    "print(\"Accuracy = \", accuracies_cc['svc'])"
   ]
  },
  {
   "cell_type": "code",
   "execution_count": 21,
   "metadata": {},
   "outputs": [
    {
     "name": "stdout",
     "output_type": "stream",
     "text": [
      "Accuracy =  0.9486449864498646\n"
     ]
    }
   ],
   "source": [
    "# Classifier Chain with Random Forest Classifier \n",
    "\n",
    "RF_pipeline = Pipeline([\n",
    "            ('tfidf', TfidfVectorizer()),\n",
    "            ('clf', ClassifierChain(RandomForestClassifier()))\n",
    "            ])\n",
    "\n",
    "RF_pipeline.fit(X_train, y_train)\n",
    "\n",
    "prediction = RF_pipeline.predict(X_test)\n",
    "accuracies_cc['rf'] = f1_score(y_test, prediction, average='samples')\n",
    "print(\"Accuracy = \", accuracies_cc['rf'])"
   ]
  },
  {
   "cell_type": "markdown",
   "metadata": {},
   "source": [
    "<b> Classifier Chains Results:</b>"
   ]
  },
  {
   "cell_type": "code",
   "execution_count": 22,
   "metadata": {},
   "outputs": [
    {
     "data": {
      "image/png": "[encoded data removed]",
      "text/plain": [
       "<Figure size 432x288 with 1 Axes>"
      ]
     },
     "metadata": {
      "needs_background": "light"
     },
     "output_type": "display_data"
    }
   ],
   "source": [
    "plt.bar(accuracies_cc.keys(), accuracies_cc.values(), color='orange')\n",
    "plt.ylabel('Accuracy')\n",
    "plt.xlabel('Classifier')\n",
    "plt.title('Accuracies of Classifier Chains by F1 Score')\n",
    "plt.show()"
   ]
  },
  {
   "cell_type": "markdown",
   "metadata": {},
   "source": [
    "### Label Powerset"
   ]
  },
  {
   "cell_type": "code",
   "execution_count": 23,
   "metadata": {},
   "outputs": [],
   "source": [
    "from skmultilearn.problem_transform import LabelPowerset\n",
    "\n",
    "# Create a dictionary to store accuracies for plotting\n",
    "accuracies_lps = dict()"
   ]
  },
  {
   "cell_type": "code",
   "execution_count": 24,
   "metadata": {},
   "outputs": [
    {
     "name": "stdout",
     "output_type": "stream",
     "text": [
      "Accuracy =  0.8926227040048179\n"
     ]
    }
   ],
   "source": [
    "# LOGISTIC REGRESSION CLASSIFIER\n",
    "LogReg_pipeline = Pipeline([\n",
    "                ('tfidf', TfidfVectorizer()),\n",
    "                ('clf', LabelPowerset(LogisticRegression(solver='sag')))\n",
    "                ])\n",
    "\n",
    "LogReg_pipeline.fit(X_train, y_train)\n",
    "\n",
    "prediction = LogReg_pipeline.predict(X_test)\n",
    "\n",
    "accuracies_lps['lr'] = f1_score(y_test, prediction, average='samples')\n",
    "print(\"Accuracy = \", accuracies_lps['lr'])"
   ]
  },
  {
   "cell_type": "code",
   "execution_count": 25,
   "metadata": {},
   "outputs": [
    {
     "name": "stdout",
     "output_type": "stream",
     "text": [
      "Accuracy =  0.7283047274917194\n"
     ]
    }
   ],
   "source": [
    "# Label Powerset with Multinomial Naive Bayes Classifier\n",
    "from skmultilearn.problem_transform import LabelPowerset\n",
    "from sklearn.naive_bayes import MultinomialNB\n",
    "\n",
    "NB_pipeline = Pipeline([\n",
    "            ('tfidf', TfidfVectorizer()),\n",
    "            ('clf', LabelPowerset(MultinomialNB()))\n",
    "            ])\n",
    "\n",
    "NB_pipeline.fit(X_train, y_train)\n",
    "\n",
    "prediction = NB_pipeline.predict(X_test)\n",
    "accuracies_lps['nb'] = f1_score(y_test, prediction, average='samples')\n",
    "print(\"Accuracy = \", accuracies_lps['nb'])"
   ]
  },
  {
   "cell_type": "code",
   "execution_count": 26,
   "metadata": {},
   "outputs": [
    {
     "name": "stdout",
     "output_type": "stream",
     "text": [
      "Accuracy =  0.8978319783197832\n"
     ]
    }
   ],
   "source": [
    "# SVC CLASSIFIER\n",
    "SVC_pipeline = Pipeline([\n",
    "            ('tfidf', TfidfVectorizer()),\n",
    "            ('clf', LabelPowerset(LinearSVC()))\n",
    "            ])\n",
    "\n",
    "SVC_pipeline.fit(X_train, y_train)\n",
    "\n",
    "prediction = SVC_pipeline.predict(X_test)\n",
    "accuracies_lps['svc'] = f1_score(y_test, prediction, average='samples')\n",
    "print(\"Accuracy = \", accuracies_lps['svc'])"
   ]
  },
  {
   "cell_type": "code",
   "execution_count": 27,
   "metadata": {},
   "outputs": [
    {
     "name": "stdout",
     "output_type": "stream",
     "text": [
      "Accuracy =  0.8978319783197832\n"
     ]
    }
   ],
   "source": [
    "# RANDOM FOREST CLASSIFIER \n",
    "RF_pipeline = Pipeline([\n",
    "            ('tfidf', TfidfVectorizer()),\n",
    "            ('clf', LabelPowerset(RandomForestClassifier()))\n",
    "            ])\n",
    "\n",
    "RF_pipeline.fit(X_train, y_train)\n",
    "\n",
    "predictions = RF_pipeline.predict(X_test)\n",
    "accuracies_lps['rf'] = f1_score(y_test, prediction, average='samples')\n",
    "print(\"Accuracy = \", accuracies_lps['rf'])"
   ]
  },
  {
   "cell_type": "markdown",
   "metadata": {},
   "source": [
    "<b> Label Powerset Results:</b>"
   ]
  },
  {
   "cell_type": "code",
   "execution_count": 28,
   "metadata": {},
   "outputs": [
    {
     "data": {
      "image/png": "[encoded data removed]",
      "text/plain": [
       "<Figure size 432x288 with 1 Axes>"
      ]
     },
     "metadata": {
      "needs_background": "light"
     },
     "output_type": "display_data"
    }
   ],
   "source": [
    "plt.bar(accuracies_lps.keys(), accuracies_lps.values(), color='green')\n",
    "plt.ylabel('Accuracy')\n",
    "plt.xlabel('Classifier')\n",
    "plt.title('Accuracies of Label Powerset by F1 Score')\n",
    "plt.show()"
   ]
  },
  {
   "cell_type": "markdown",
   "metadata": {},
   "source": [
    "<b> Summary of Non-OneVsRest Results:</b>"
   ]
  },
  {
   "cell_type": "code",
   "execution_count": 29,
   "metadata": {},
   "outputs": [
    {
     "data": {
      "image/png": "[encoded data removed]",
      "text/plain": [
       "<Figure size 432x288 with 1 Axes>"
      ]
     },
     "metadata": {
      "needs_background": "light"
     },
     "output_type": "display_data"
    }
   ],
   "source": [
    "non_onevsrest_results = {'br': accuracies_br, \n",
    "                    'cc': accuracies_cc, \n",
    "                    'lps': accuracies_lps}\n",
    "pd.DataFrame(non_onevsrest_results).T.plot(kind='bar', title='Accuracies of BR, CC, LPS by F1 Score')\n",
    "plt.ylabel('Accuracy')\n",
    "plt.xlabel('Model')\n",
    "plt.legend(title='classifiers', loc='center left', bbox_to_anchor=(1.0, 0.5))\n",
    "plt.show()"
   ]
  },
  {
   "cell_type": "markdown",
   "metadata": {},
   "source": [
    "### Adapted Algorithm (MLkNN)"
   ]
  },
  {
   "cell_type": "code",
   "execution_count": 30,
   "metadata": {},
   "outputs": [],
   "source": [
    "# Import our original training and testing data\n",
    "X_train2 = X_train2['no_stop_words']\n",
    "X_test2 = X_test2['no_stop_words']\n",
    "\n",
    "# Vectorize using Tfidf\n",
    "vectorizer = TfidfVectorizer()\n",
    "vectorizer.fit(X_train2)\n",
    "vectorizer.fit(X_test2)\n",
    "\n",
    "X_train2 = vectorizer.transform(X_train2)\n",
    "X_test2 = vectorizer.transform(X_test2)"
   ]
  },
  {
   "cell_type": "code",
   "execution_count": 31,
   "metadata": {},
   "outputs": [
    {
     "name": "stderr",
     "output_type": "stream",
     "text": [
      "C:\\Users\\mdjm0\\anaconda3\\lib\\site-packages\\sklearn\\utils\\validation.py:68: FutureWarning: Pass n_neighbors=10 as keyword args. From version 0.25 passing these as positional arguments will result in an error\n",
      "  warnings.warn(\"Pass {} as keyword args. From version 0.25 \"\n"
     ]
    },
    {
     "name": "stdout",
     "output_type": "stream",
     "text": [
      "Test accuracy is 0.6328537015528884\n",
      "\n",
      "\n"
     ]
    }
   ],
   "source": [
    "from skmultilearn.adapt import MLkNN\n",
    "from scipy.sparse import csr_matrix, lil_matrix\n",
    "\n",
    "classifier_new = MLkNN(k=10)\n",
    "\n",
    "X_train = lil_matrix(X_train2).toarray()\n",
    "y_train = lil_matrix(y_train).toarray()\n",
    "X_test = lil_matrix(X_test2).toarray()\n",
    "\n",
    "# Train\n",
    "classifier_new.fit(X_train2, y_train)\n",
    "\n",
    "# Predict\n",
    "predictions_new = classifier_new.predict(X_test2)\n",
    "\n",
    "# Measure accuracy\n",
    "print(\"Test accuracy is\", f1_score(y_test,predictions_new, average='samples'))\n",
    "print(\"\\n\")"
   ]
  },
  {
   "cell_type": "markdown",
   "metadata": {},
   "source": [
    "<b> Summary of Results: </b>\n",
    "\n",
    "Before any model tuning and hyperparamers we see that our most successful model is OneVsRest, though Binary Relevance and Classifer Chains perform very well with certain classifiers.  \n",
    "\n",
    "OneVsRest performs well with each of the four classifiers we have tested, though Logistic Regression, C-Support Vector Classification, and Random Forest classifiers seem more promising than Multinomial Naive Bayes. \n",
    "\n",
    "An initial test of the adapted k-Nearest Neighbours model, MLkNN, was somewhat successful.  We will explore tuning this."
   ]
  },
  {
   "cell_type": "markdown",
   "metadata": {},
   "source": [
    "<b> A function to generated predicted labels for OneVsRest</b>"
   ]
  },
  {
   "cell_type": "code",
   "execution_count": 32,
   "metadata": {},
   "outputs": [],
   "source": [
    "X_train = pd.read_csv('Data\\X_train_nlp.csv')\n",
    "X_test = pd.read_csv('Data\\X_test_nlp.csv')\n",
    "y_train = pd.read_csv('Data\\y_train_nlp.csv')\n",
    "y_test = pd.read_csv('Data\\y_test_nlp.csv')\n",
    "\n",
    "X_train = X_train['no_stop_words']\n",
    "X_test = X_test['no_stop_words']"
   ]
  },
  {
   "cell_type": "code",
   "execution_count": 33,
   "metadata": {},
   "outputs": [],
   "source": [
    "\"\"\"\n",
    "This function will take a row number as input.\n",
    "It will produce the predicted labels for that row using OneVsRest and each of the four classifiers.\n",
    "It will allow us to compare these predictions against the desired results.\n",
    "\"\"\"\n",
    "\n",
    "def ovr_predict_labels_all_classifiers(row):\n",
    "    classifiers = {'LR': LogisticRegression(), \n",
    "                   'MNB': MultinomialNB(), \n",
    "                   'SVC': LinearSVC(), \n",
    "                   'RF': RandomForestClassifier()}\n",
    "    \n",
    "    #Retrieve correct labels for the row \n",
    "    print(\"True Labels:\", list(y_test.iloc[row].values))\n",
    "    print(\"\\nPredicted Labels:\")\n",
    "    \n",
    "    for name, classifier in classifiers.items():\n",
    "        # Define a OneVsRest pipeline for each classifier\n",
    "        classifier_pipeline = Pipeline([\n",
    "                ('tfidf', TfidfVectorizer()),\n",
    "                ('clf', OneVsRestClassifier(classifier, n_jobs=1)),\n",
    "                ])\n",
    "        pred_labels = []\n",
    "        # Train the model on each category\n",
    "        for category in categories:\n",
    "            classifier_pipeline.fit(X_train, y_train[category])\n",
    "     \n",
    "            # Predict the label for the given category\n",
    "            prediction = classifier_pipeline.predict(X_test)\n",
    "            pred_labels.append(prediction[row])\n",
    "        print(name, pred_labels)"
   ]
  },
  {
   "cell_type": "code",
   "execution_count": 34,
   "metadata": {},
   "outputs": [
    {
     "name": "stdout",
     "output_type": "stream",
     "text": [
      "True Labels: [1, 0, 0, 0, 1]\n",
      "\n",
      "Predicted Labels:\n",
      "LR [1, 0, 0, 0, 1]\n",
      "MNB [1, 0, 0, 0, 0]\n",
      "SVC [1, 0, 0, 0, 1]\n",
      "RF [1, 0, 0, 0, 1]\n"
     ]
    }
   ],
   "source": [
    "ovr_predict_labels_all_classifiers(4)"
   ]
  },
  {
   "cell_type": "markdown",
   "metadata": {},
   "source": [
    "### Fine Tuning the OneVsRest Models"
   ]
  },
  {
   "cell_type": "code",
   "execution_count": 35,
   "metadata": {},
   "outputs": [
    {
     "name": "stdout",
     "output_type": "stream",
     "text": [
      "Test accuracy for outerwear labels is 0.9454689252538035\n",
      "Test accuracy for tops labels is 0.9634146341463414\n",
      "Test accuracy for pants labels is 0.9612384858468366\n",
      "Test accuracy for dresses labels is 0.9742607999881461\n",
      "Test accuracy for skirts labels is 0.9842014962034318\n"
     ]
    }
   ],
   "source": [
    "# Logistic Regression\n",
    "# OneVs Rest with Logistic Regression Classifer\n",
    "from sklearn.multiclass import OneVsRestClassifier\n",
    "from sklearn.linear_model import LogisticRegression\n",
    "\n",
    "# Using pipeline for applying logistic regression and one vs rest classifier\n",
    "LogReg_pipeline = Pipeline([\n",
    "                ('tfidf', TfidfVectorizer()),\n",
    "                ('clf', OneVsRestClassifier(LogisticRegression(), n_jobs=1)),\n",
    "                ])\n",
    "\n",
    "# Create a dictionary of the accuracies for plotting \n",
    "accuracies_ovr_lr = dict()\n",
    "for category in categories:\n",
    "        \n",
    "    # Training logistic regression model on training data\n",
    "    LogReg_pipeline.fit(X_train, y_train[category])\n",
    "    \n",
    "    # Predicting and calculating test accuracy\n",
    "    prediction = LogReg_pipeline.predict(X_test)\n",
    "    accuracies_ovr_lr[category] = balanced_accuracy_score(y_test[category], prediction)\n",
    "    print('Test accuracy for {} labels is {}'.format(category, accuracies_ovr_lr[category]))"
   ]
  },
  {
   "cell_type": "code",
   "execution_count": 36,
   "metadata": {},
   "outputs": [
    {
     "name": "stdout",
     "output_type": "stream",
     "text": [
      "Test accuracy for outerwear labels is 0.9513046586441082\n",
      "Test accuracy for tops labels is 0.9650406504065041\n",
      "Test accuracy for pants labels is 0.9626728523723078\n",
      "Test accuracy for dresses labels is 0.984967068463516\n",
      "Test accuracy for skirts labels is 0.9877472711474089\n"
     ]
    }
   ],
   "source": [
    "# Logistic Regression\n",
    "# OneVs Rest with Logistic Regression Classifer\n",
    "from sklearn.multiclass import OneVsRestClassifier\n",
    "from sklearn.linear_model import LogisticRegression\n",
    "\n",
    "# Using pipeline for applying logistic regression and one vs rest classifier\n",
    "LogReg_pipeline = Pipeline([\n",
    "                ('tfidf', TfidfVectorizer()),\n",
    "                ('clf', OneVsRestClassifier(LogisticRegression(solver='liblinear', penalty='l1'), n_jobs=1)),\n",
    "                ])\n",
    "\n",
    "# Create a dictionary of the accuracies for plotting \n",
    "accuracies_ovr_lr = dict()\n",
    "for category in categories:\n",
    "        \n",
    "    # Training logistic regression model on training data\n",
    "    LogReg_pipeline.fit(X_train, y_train[category])\n",
    "    \n",
    "    # Predicting and calculating test accuracy\n",
    "    prediction = LogReg_pipeline.predict(X_test)\n",
    "    accuracies_ovr_lr[category] = balanced_accuracy_score(y_test[category], prediction)\n",
    "    print('Test accuracy for {} labels is {}'.format(category, accuracies_ovr_lr[category]))"
   ]
  },
  {
   "cell_type": "markdown",
   "metadata": {},
   "source": [
    "We have a very slight improvement across all five labels with this tuning."
   ]
  },
  {
   "cell_type": "code",
   "execution_count": 37,
   "metadata": {},
   "outputs": [
    {
     "name": "stdout",
     "output_type": "stream",
     "text": [
      "Test accuracy for outerwear labels is 0.9439130309740876\n",
      "Test accuracy for tops labels is 0.9603658536585367\n",
      "Test accuracy for pants labels is 0.9386248010937045\n",
      "Test accuracy for dresses labels is 0.9855079013461553\n",
      "Test accuracy for skirts labels is 0.9880179804056656\n"
     ]
    }
   ],
   "source": [
    "# RANDOM FOREST CLASSIFIER\n",
    "from sklearn.ensemble import RandomForestClassifier\n",
    "\n",
    "RF_pipeline = Pipeline([\n",
    "                ('tfidf', TfidfVectorizer()),\n",
    "                ('clf', OneVsRestClassifier(RandomForestClassifier(), n_jobs=1)),\n",
    "                ])\n",
    "    \n",
    "accuracies_ovr_rf = dict()\n",
    "\n",
    "for category in categories:\n",
    "    \n",
    "    RF_pipeline.fit(X_train, y_train[category])\n",
    "    \n",
    "    prediction = RF_pipeline.predict(X_test)\n",
    "    accuracies_ovr_rf[category] = balanced_accuracy_score(y_test[category], prediction)\n",
    "    print('Test accuracy for {} labels is {}'.format(category, accuracies_ovr_rf[category]))"
   ]
  },
  {
   "cell_type": "code",
   "execution_count": 38,
   "metadata": {},
   "outputs": [
    {
     "name": "stdout",
     "output_type": "stream",
     "text": [
      "Test accuracy for outerwear labels is 0.9452031043932341\n",
      "Test accuracy for tops labels is 0.9638211382113822\n",
      "Test accuracy for pants labels is 0.9396221340684462\n",
      "Test accuracy for dresses labels is 0.983579424642717\n",
      "Test accuracy for skirts labels is 0.9801143027429413\n"
     ]
    }
   ],
   "source": [
    "# RANDOM FOREST CLASSIFIER\n",
    "from sklearn.ensemble import RandomForestClassifier\n",
    "\n",
    "RF_pipeline = Pipeline([\n",
    "                ('tfidf', TfidfVectorizer()),\n",
    "                ('clf', OneVsRestClassifier(RandomForestClassifier(criterion = 'entropy', n_estimators = 100), n_jobs=1)),\n",
    "                ])\n",
    "    \n",
    "accuracies_ovr_rf = dict()\n",
    "\n",
    "for category in categories:\n",
    "    \n",
    "    RF_pipeline.fit(X_train, y_train[category])\n",
    "    \n",
    "    prediction = RF_pipeline.predict(X_test)\n",
    "    accuracies_ovr_rf[category] = balanced_accuracy_score(y_test[category], prediction)\n",
    "    print('Test accuracy for {} labels is {}'.format(category, accuracies_ovr_rf[category]))"
   ]
  },
  {
   "cell_type": "code",
   "execution_count": null,
   "metadata": {},
   "outputs": [],
   "source": []
  }
 ],
 "metadata": {
  "kernelspec": {
   "display_name": "Python 3",
   "language": "python",
   "name": "python3"
  },
  "language_info": {
   "codemirror_mode": {
    "name": "ipython",
    "version": 3
   },
   "file_extension": ".py",
   "mimetype": "text/x-python",
   "name": "python",
   "nbconvert_exporter": "python",
   "pygments_lexer": "ipython3",
   "version": "3.8.3"
  }
 },
 "nbformat": 4,
 "nbformat_minor": 4
}
